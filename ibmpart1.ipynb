{
 "cells": [
  {
   "cell_type": "markdown",
   "metadata": {},
   "source": [
    "#  The City That Never Sleeps: New York City "
   ]
  },
  {
   "cell_type": "markdown",
   "metadata": {},
   "source": [
    "### Introduction / Business Problem"
   ]
  },
  {
   "cell_type": "markdown",
   "metadata": {},
   "source": [
    "As part of the last course in the IBM Data Science Professional Certificate course on Coursera, we muse use a combination of the skills we learned towards a final capstone project. In addition to the actual code, a report covering many aspects of the problem will be included. The code will be accessible via Github. For this project, I'll be analyzing car collission data in order to reduce the freuqnecy of car accdients. I'll use different model approaches and choose whih is best. "
   ]
  },
  {
   "cell_type": "markdown",
   "metadata": {},
   "source": [
    "### Data "
   ]
  },
  {
   "cell_type": "markdown",
   "metadata": {},
   "source": [
    "The necessary data for this project is provided by the course. It contains various features on car collisions in Seattle. All of the columns won't be necessary. In this project, the following columns will be included: SEVERITYCODE, WEATHER, LIGHTCOND, SPEEDING, ROADCOND. The severity code is as follows: 0 (clear conditions), 1 (chance or property damage), 2 (chance of injury), 3 (chance of serious injury), 4 (chance of fatality). "
   ]
  }
 ],
 "metadata": {
  "kernelspec": {
   "display_name": "Python 3",
   "language": "python",
   "name": "python3"
  },
  "language_info": {
   "codemirror_mode": {
    "name": "ipython",
    "version": 3
   },
   "file_extension": ".py",
   "mimetype": "text/x-python",
   "name": "python",
   "nbconvert_exporter": "python",
   "pygments_lexer": "ipython3",
   "version": "3.7.6"
  }
 },
 "nbformat": 4,
 "nbformat_minor": 4
}
